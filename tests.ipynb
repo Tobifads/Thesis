{
 "cells": [
  {
   "cell_type": "code",
   "execution_count": 34,
   "id": "e15c56d9",
   "metadata": {},
   "outputs": [
    {
     "name": "stdout",
     "output_type": "stream",
     "text": [
      "Requirement already satisfied: fuzzywuzzy in /opt/anaconda3/lib/python3.12/site-packages (0.18.0)\n",
      "Note: you may need to restart the kernel to use updated packages.\n"
     ]
    }
   ],
   "source": [
    "# Install fuzzywuzzy if not already installed\n",
    "%pip install fuzzywuzzy\n",
    "\n",
    "from fuzzywuzzy import fuzz\n",
    "import pandas as pd\n",
    "\n",
    "def map_esg_features_fuzzy(combined_path, esg_excel_path, threshold=85):\n",
    "    combined_df = pd.read_csv(combined_path)\n",
    "    esg_sheets = pd.read_excel(esg_excel_path, sheet_name=None)\n",
    "    feature_category_map = {}\n",
    "\n",
    "    # Lowercase version of combined dataset columns for better comparison\n",
    "    combined_columns = {col.lower(): col for col in combined_df.columns}\n",
    "\n",
    "    for sheet_name, df in esg_sheets.items():\n",
    "        for col_index in range(min(5, df.shape[1])):  # Check first few columns\n",
    "            possible_features = df.iloc[10:, col_index].dropna().astype(str)\n",
    "\n",
    "            for feature in possible_features:\n",
    "                feature_lower = feature.strip().lower()\n",
    "                for col_lower, original_col in combined_columns.items():\n",
    "                    if fuzz.ratio(feature_lower, col_lower) >= threshold:\n",
    "                        feature_category_map[original_col] = sheet_name\n",
    "\n",
    "    return feature_category_map\n"
   ]
  },
  {
   "cell_type": "code",
   "execution_count": 35,
   "id": "daff97be",
   "metadata": {},
   "outputs": [
    {
     "name": "stdout",
     "output_type": "stream",
     "text": [
      "{'ESG Combined Score': 'Controversies', 'ESG Combined Score\\n.1': 'Controversies', 'ESG Combined Score Grade': 'Controversies', 'ESG Controversies Score': 'Controversies', 'Resource Reduction Policy Score': 'Environment', 'Policy Water Efficiency Score': 'Environment', 'Policy Energy Efficiency Score': 'Environment', 'Policy Sustainable Packaging Score': 'Environment', 'Policy Environmental Supply Chain Score': 'Environment', 'Resource Reduction Targets Score': 'Environment', 'Targets Water Efficiency Score': 'Environment', 'Targets Energy Efficiency Score': 'Environment', 'Environment Management Team Score': 'Environment', 'Environmental Materials Sourcing Score': 'Environment', 'Toxic Chemicals Reduction Score': 'Environment', 'Renewable Energy Use Ratio Score': 'Environment', 'Renewable Energy Supply Score': 'Environment', 'Total Renewable Energy To Energy Use in million Score': 'Environment', 'Cement Energy Use Score': 'Environment', 'Environmental Supply Chain Management Score': 'Environment', 'Environmental Supply Chain Monitoring Score': 'Environment', 'Env Supply Chain Partnership Termination Score': 'Environment', 'Land Environmental Impact Reduction Score': 'Environment', 'Targets Emissions Score': 'Environment', 'Biodiversity Impact Reduction Score': 'Environment', 'Estimated CO2 Equivalents Emission Total Score': 'Environment', 'CO2 Equivalent Emissions Indirect, Scope 3 To Revenues USD in million Score': 'Environment', 'Emissions Trading Score': 'Environment', 'Cement CO2 Equivalents Emission Score': 'Environment', 'Climate Change Commercial Risks Opportunities Score': 'Environment', 'Flaring Gases To Revenues USD in million Score': 'Environment', 'Ozone-Depleting Substances To Revenues USD in million Score': 'Environment', 'Ozone-Depleting Substances Score': 'Environment', 'NOx and SOx Emissions Reduction Score': 'Environment', 'NOx Emissions To Revenues USD in million Score': 'Environment', 'SOx Emissions To Revenues USD in million Score': 'Environment', 'VOC Emissions To Revenues USD in million Score': 'Environment', 'VOC or Particulate Matter Emissions Reduction Score': 'Environment', 'Waste Recycled To Total Waste Score': 'Environment', 'e-Waste Reduction Score': 'Environment', 'EMS Certified Percent Score': 'Environment', 'Environmental Restoration Initiatives Score': 'Environment', 'Staff Transportation Impact Reduction Score': 'Environment', 'Accidental Spills To Revenues USD in million Score': 'Environment', 'Environmental Expenditures Investments Score': 'Environment', 'Self-Reported Environmental Fines To Revenues in million Score': 'Environment', 'Self-Reported Environmental Fines Score': 'Environment', 'Environmental Partnerships Score': 'Environment', 'Total CO2 Equivalent Emissions To Revenues USD Score': 'Environment', 'Fleet CO2 Emissions Score': 'Environment', 'Environmental Products Score': 'Environment', 'Revenue from Environmental Products Score': 'Environment', 'Fleet Fuel Consumption Score': 'Environment', 'Environmental Assets Under Mgt Score': 'Environment', 'Equator Principles or Env Project Financing Score': 'Environment', 'Nuclear Production Score': 'Environment', 'Labeled Wood Percentage Score': 'Environment', 'Organic Products Initiatives Score': 'Environment', 'Product Impact Minimization Score': 'Environment', 'Agrochemical Products Score': 'Environment', 'Renewable/Clean Energy Products Score': 'Environment', 'Water Technologies Score': 'Environment', 'Sustainable Building Products Score': 'Environment', 'Real Estate Sustainability Certifications Score': 'Environment', 'Fossil Fuel Divestment Policy Score': 'Environment', 'Health & Safety Policy Score': 'Social', 'Training and Development Policy Score': 'Social', 'Policy Diversity and Opportunity Score': 'Social', 'Targets Diversity and Opportunity Score': 'Social', 'Employees Health & Safety Team Score': 'Social', 'Supply Chain Health & Safety Improvements Score': 'Social', 'Employees Health & Safety OHSAS 18001 Score': 'Social', 'Employee Satisfaction Score': 'Social', 'Net Employment Creation Score': 'Social', 'Trade Union Representation Score': 'Social', 'Turnover of Employees Score': 'Social', 'Announced Layoffs To Total Employees Score': 'Social', 'Gender Pay Gap Percentage Score': 'Social', 'HRC Corporate Equality Index Score': 'Social', 'Flexible Working Hours Score': 'Social', 'Day Care Services Score': 'Social', 'Employees With Disabilities Score': 'Social', 'Employee Health & Safety Training Hours Score': 'Social', 'Injuries To Million Hours Score': 'Social', 'Occupational Diseases Score': 'Social', 'Average Training Hours Score': 'Social', 'Training Costs Per Employee Score': 'Social', 'Internal Promotion Score': 'Social', 'Supplier ESG training Score': 'Social', 'Employee Resource Groups Score': 'Social', 'Human Rights Policy Score': 'Social', 'Policy Freedom of Association Score': 'Social', 'Policy Child Labor Score': 'Social', 'Policy Forced Labor Score': 'Social', 'Policy Human Rights Score': 'Social', 'Fundamental Human Rights ILO UN Score': 'Social', 'Human Rights Contractor Score': 'Social', 'Ethical Trading Initiative ETI Score': 'Social', 'Human Rights Breaches Contractor Score': 'Social', 'Policy Fair Competition Score': 'Social', 'Policy Bribery and Corruption Score': 'Social', 'Policy Business Ethics Score': 'Social', 'Policy Community Involvement Score': 'Social', 'Improvement Tools Business Ethics Score': 'Social', 'Whistleblower Protection Score': 'Social', 'OECD Guidelines for Multinational Enterprises Score': 'Social', 'Extractive Industries Transparency Initiative Score': 'Social', 'Community Lending and Investments Score': 'Social', 'Corporate Responsibility Awards Score': 'Social', 'Product Sales at Discount to Emerging Markets Score': 'Social', 'Diseases of the Developing World Score': 'Social', 'Critical Country 1 Score': 'Social', 'Policy Customer Health & Safety Score': 'Social', 'Policy Data Privacy Score': 'Social', 'Policy Responsible Marketing Score': 'Social', 'Policy Fair Trade Score': 'Social', 'Product Responsibility Monitoring Score': 'Social', 'Quality Mgt Systems Score': 'Social', 'QMS Certified Percent Score': 'Social', 'Customer Satisfaction Score': 'Social', 'Product Access Low Price Score': 'Social', 'Healthy Food or Products Score': 'Social', 'Embryonic Stem Cell Research Score': 'Social', 'Board Functions Policy Score': 'Governance', 'Board Structure Policy Score': 'Governance', 'Compensation Improvement Tools Score': 'Governance', 'Internal Audit Department Reporting Score': 'Governance', 'External Consultants Score': 'Governance', 'Audit Committee Independence Score': 'Governance', 'Audit Committee Mgt Independence Score': 'Governance', 'Audit Committee Expertise Score': 'Governance', 'Compensation Committee Independence Score': 'Governance', 'Compensation Committee Mgt Independence Score': 'Governance', 'Nomination Committee Mgt Independence Score': 'Governance', 'Nomination Committee Independence Score': 'Governance', 'Nomination Committee Involvement Score': 'Governance', 'Board Meeting Attendance Average Score': 'Governance', 'Board Size More Ten Less Eight Score': 'Governance', 'Board Background and Skills Score': 'Governance', 'Board Gender Diversity, Percent Score': 'Governance', 'Board Specific Skills, Percent Score': 'Governance', 'Average Board Tenure Score': 'Governance', 'Non-Executive Board Members Score': 'Governance', 'Independent Board Members Score': 'Governance', 'Strictly Independent Board Members Score': 'Governance', 'Board Member Affiliations Score': 'Governance', 'Board Individual Re-election Score': 'Governance', 'Executive Compensation Policy Score': 'Governance', 'Executive Individual Compensation Score': 'Governance', 'Total Senior Executives Compensation To Revenues in million Score': 'Governance', 'Total Senior Executives Compensation Score': 'Governance', 'Highest Remuneration Package Score': 'Governance', 'CEO Compensation Link to TSR Score': 'Governance', 'Executive Compensation LT Objectives Score': 'Governance', 'Sustainability Compensation Incentives Score': 'Governance', 'Shareholders Approval Stock Compensation Plan Score': 'Governance', 'Board Member Compensation Score': 'Governance', 'Board Cultural Diversity, Percent Score': 'Governance', 'Executive Members Gender Diversity, Percent Score': 'Governance', 'Executives Cultural Diversity Score': 'Governance', 'Shareholder Rights Policy Score': 'Governance', 'Equal Shareholder Rights Score': 'Governance', 'Voting Cap Percentage Score': 'Governance', 'Director Election Majority Requirement Score': 'Governance', 'Shareholders Vote on Executive Pay Score': 'Governance', 'Public Availability Corporate Statutes Score': 'Governance', 'Veto Power or Golden share Score': 'Governance', 'State Owned Enterprise SOE Score': 'Governance', 'Anti Takeover Devices Above Two Score': 'Governance', 'Litigation Expenses To Revenues in million Score': 'Governance', 'Litigation Expenses Score': 'Governance', 'Non-audit to Audit Fees Ratio Score': 'Governance', 'CSR Sustainability Committee Score': 'Governance', 'Integrated Strategy in MD&A Score': 'Governance', 'Global Compact Signatory Score': 'Governance', 'Stakeholder Engagement Score': 'Governance', 'CSR Sustainability Reporting Score': 'Governance', 'GRI Report Guidelines Score': 'Governance', 'CSR Sustainability Report Global Activities Score': 'Governance', 'CSR Sustainability External Audit Score': 'Governance', 'Environmental Controversies Score': 'Controversies', 'Wages Working Condition Controversies Score': 'Controversies', 'Anti-competition Controversies Score': 'Controversies', 'Bribery, Corruption and Fraud Controversies Score': 'Controversies', 'Consumer Complaints Controversies Score': 'Controversies', 'Product Quality Controversies Score': 'Controversies', 'Responsible Marketing Controversies Score': 'Controversies', 'Executive Compensation Controversies Score': 'Controversies', 'Insider Dealings Controversies Score': 'Controversies', 'Accounting Controversies Score': 'Controversies'}\n"
     ]
    }
   ],
   "source": [
    "from fuzzywuzzy import fuzz\n",
    "combined_csv_path = \"/Users/tobifadeyi/Documents/Thesis code/combined_data_with_unique_years.csv\"\n",
    "esg_excel_path = '/Users/tobifadeyi/Downloads/ESG/ESG TABLES/ESG Table for AAF.L.xlsx'\n",
    "\n",
    "feature_mapping = map_esg_features_fuzzy(combined_csv_path, esg_excel_path)\n",
    "print(feature_mapping)\n"
   ]
  },
  {
   "cell_type": "code",
   "execution_count": 36,
   "id": "70021d69",
   "metadata": {},
   "outputs": [
    {
     "data": {
      "text/plain": [
       "{'ESG Combined Score': 'Controversies',\n",
       " 'ESG Combined Score\\n.1': 'Controversies',\n",
       " 'ESG Combined Score Grade': 'Controversies',\n",
       " 'ESG Controversies Score': 'Controversies',\n",
       " 'Resource Reduction Policy Score': 'Environment',\n",
       " 'Policy Water Efficiency Score': 'Environment',\n",
       " 'Policy Energy Efficiency Score': 'Environment',\n",
       " 'Policy Sustainable Packaging Score': 'Environment',\n",
       " 'Policy Environmental Supply Chain Score': 'Environment',\n",
       " 'Resource Reduction Targets Score': 'Environment',\n",
       " 'Targets Water Efficiency Score': 'Environment',\n",
       " 'Targets Energy Efficiency Score': 'Environment',\n",
       " 'Environment Management Team Score': 'Environment',\n",
       " 'Environmental Materials Sourcing Score': 'Environment',\n",
       " 'Toxic Chemicals Reduction Score': 'Environment',\n",
       " 'Renewable Energy Use Ratio Score': 'Environment',\n",
       " 'Renewable Energy Supply Score': 'Environment',\n",
       " 'Total Renewable Energy To Energy Use in million Score': 'Environment',\n",
       " 'Cement Energy Use Score': 'Environment',\n",
       " 'Environmental Supply Chain Management Score': 'Environment',\n",
       " 'Environmental Supply Chain Monitoring Score': 'Environment',\n",
       " 'Env Supply Chain Partnership Termination Score': 'Environment',\n",
       " 'Land Environmental Impact Reduction Score': 'Environment',\n",
       " 'Targets Emissions Score': 'Environment',\n",
       " 'Biodiversity Impact Reduction Score': 'Environment',\n",
       " 'Estimated CO2 Equivalents Emission Total Score': 'Environment',\n",
       " 'CO2 Equivalent Emissions Indirect, Scope 3 To Revenues USD in million Score': 'Environment',\n",
       " 'Emissions Trading Score': 'Environment',\n",
       " 'Cement CO2 Equivalents Emission Score': 'Environment',\n",
       " 'Climate Change Commercial Risks Opportunities Score': 'Environment',\n",
       " 'Flaring Gases To Revenues USD in million Score': 'Environment',\n",
       " 'Ozone-Depleting Substances To Revenues USD in million Score': 'Environment',\n",
       " 'Ozone-Depleting Substances Score': 'Environment',\n",
       " 'NOx and SOx Emissions Reduction Score': 'Environment',\n",
       " 'NOx Emissions To Revenues USD in million Score': 'Environment',\n",
       " 'SOx Emissions To Revenues USD in million Score': 'Environment',\n",
       " 'VOC Emissions To Revenues USD in million Score': 'Environment',\n",
       " 'VOC or Particulate Matter Emissions Reduction Score': 'Environment',\n",
       " 'Waste Recycled To Total Waste Score': 'Environment',\n",
       " 'e-Waste Reduction Score': 'Environment',\n",
       " 'EMS Certified Percent Score': 'Environment',\n",
       " 'Environmental Restoration Initiatives Score': 'Environment',\n",
       " 'Staff Transportation Impact Reduction Score': 'Environment',\n",
       " 'Accidental Spills To Revenues USD in million Score': 'Environment',\n",
       " 'Environmental Expenditures Investments Score': 'Environment',\n",
       " 'Self-Reported Environmental Fines To Revenues in million Score': 'Environment',\n",
       " 'Self-Reported Environmental Fines Score': 'Environment',\n",
       " 'Environmental Partnerships Score': 'Environment',\n",
       " 'Total CO2 Equivalent Emissions To Revenues USD Score': 'Environment',\n",
       " 'Fleet CO2 Emissions Score': 'Environment',\n",
       " 'Environmental Products Score': 'Environment',\n",
       " 'Revenue from Environmental Products Score': 'Environment',\n",
       " 'Fleet Fuel Consumption Score': 'Environment',\n",
       " 'Environmental Assets Under Mgt Score': 'Environment',\n",
       " 'Equator Principles or Env Project Financing Score': 'Environment',\n",
       " 'Nuclear Production Score': 'Environment',\n",
       " 'Labeled Wood Percentage Score': 'Environment',\n",
       " 'Organic Products Initiatives Score': 'Environment',\n",
       " 'Product Impact Minimization Score': 'Environment',\n",
       " 'Agrochemical Products Score': 'Environment',\n",
       " 'Renewable/Clean Energy Products Score': 'Environment',\n",
       " 'Water Technologies Score': 'Environment',\n",
       " 'Sustainable Building Products Score': 'Environment',\n",
       " 'Real Estate Sustainability Certifications Score': 'Environment',\n",
       " 'Fossil Fuel Divestment Policy Score': 'Environment',\n",
       " 'Health & Safety Policy Score': 'Social',\n",
       " 'Training and Development Policy Score': 'Social',\n",
       " 'Policy Diversity and Opportunity Score': 'Social',\n",
       " 'Targets Diversity and Opportunity Score': 'Social',\n",
       " 'Employees Health & Safety Team Score': 'Social',\n",
       " 'Supply Chain Health & Safety Improvements Score': 'Social',\n",
       " 'Employees Health & Safety OHSAS 18001 Score': 'Social',\n",
       " 'Employee Satisfaction Score': 'Social',\n",
       " 'Net Employment Creation Score': 'Social',\n",
       " 'Trade Union Representation Score': 'Social',\n",
       " 'Turnover of Employees Score': 'Social',\n",
       " 'Announced Layoffs To Total Employees Score': 'Social',\n",
       " 'Gender Pay Gap Percentage Score': 'Social',\n",
       " 'HRC Corporate Equality Index Score': 'Social',\n",
       " 'Flexible Working Hours Score': 'Social',\n",
       " 'Day Care Services Score': 'Social',\n",
       " 'Employees With Disabilities Score': 'Social',\n",
       " 'Employee Health & Safety Training Hours Score': 'Social',\n",
       " 'Injuries To Million Hours Score': 'Social',\n",
       " 'Occupational Diseases Score': 'Social',\n",
       " 'Average Training Hours Score': 'Social',\n",
       " 'Training Costs Per Employee Score': 'Social',\n",
       " 'Internal Promotion Score': 'Social',\n",
       " 'Supplier ESG training Score': 'Social',\n",
       " 'Employee Resource Groups Score': 'Social',\n",
       " 'Human Rights Policy Score': 'Social',\n",
       " 'Policy Freedom of Association Score': 'Social',\n",
       " 'Policy Child Labor Score': 'Social',\n",
       " 'Policy Forced Labor Score': 'Social',\n",
       " 'Policy Human Rights Score': 'Social',\n",
       " 'Fundamental Human Rights ILO UN Score': 'Social',\n",
       " 'Human Rights Contractor Score': 'Social',\n",
       " 'Ethical Trading Initiative ETI Score': 'Social',\n",
       " 'Human Rights Breaches Contractor Score': 'Social',\n",
       " 'Policy Fair Competition Score': 'Social',\n",
       " 'Policy Bribery and Corruption Score': 'Social',\n",
       " 'Policy Business Ethics Score': 'Social',\n",
       " 'Policy Community Involvement Score': 'Social',\n",
       " 'Improvement Tools Business Ethics Score': 'Social',\n",
       " 'Whistleblower Protection Score': 'Social',\n",
       " 'OECD Guidelines for Multinational Enterprises Score': 'Social',\n",
       " 'Extractive Industries Transparency Initiative Score': 'Social',\n",
       " 'Community Lending and Investments Score': 'Social',\n",
       " 'Corporate Responsibility Awards Score': 'Social',\n",
       " 'Product Sales at Discount to Emerging Markets Score': 'Social',\n",
       " 'Diseases of the Developing World Score': 'Social',\n",
       " 'Critical Country 1 Score': 'Social',\n",
       " 'Policy Customer Health & Safety Score': 'Social',\n",
       " 'Policy Data Privacy Score': 'Social',\n",
       " 'Policy Responsible Marketing Score': 'Social',\n",
       " 'Policy Fair Trade Score': 'Social',\n",
       " 'Product Responsibility Monitoring Score': 'Social',\n",
       " 'Quality Mgt Systems Score': 'Social',\n",
       " 'QMS Certified Percent Score': 'Social',\n",
       " 'Customer Satisfaction Score': 'Social',\n",
       " 'Product Access Low Price Score': 'Social',\n",
       " 'Healthy Food or Products Score': 'Social',\n",
       " 'Embryonic Stem Cell Research Score': 'Social',\n",
       " 'Board Functions Policy Score': 'Governance',\n",
       " 'Board Structure Policy Score': 'Governance',\n",
       " 'Compensation Improvement Tools Score': 'Governance',\n",
       " 'Internal Audit Department Reporting Score': 'Governance',\n",
       " 'External Consultants Score': 'Governance',\n",
       " 'Audit Committee Independence Score': 'Governance',\n",
       " 'Audit Committee Mgt Independence Score': 'Governance',\n",
       " 'Audit Committee Expertise Score': 'Governance',\n",
       " 'Compensation Committee Independence Score': 'Governance',\n",
       " 'Compensation Committee Mgt Independence Score': 'Governance',\n",
       " 'Nomination Committee Mgt Independence Score': 'Governance',\n",
       " 'Nomination Committee Independence Score': 'Governance',\n",
       " 'Nomination Committee Involvement Score': 'Governance',\n",
       " 'Board Meeting Attendance Average Score': 'Governance',\n",
       " 'Board Size More Ten Less Eight Score': 'Governance',\n",
       " 'Board Background and Skills Score': 'Governance',\n",
       " 'Board Gender Diversity, Percent Score': 'Governance',\n",
       " 'Board Specific Skills, Percent Score': 'Governance',\n",
       " 'Average Board Tenure Score': 'Governance',\n",
       " 'Non-Executive Board Members Score': 'Governance',\n",
       " 'Independent Board Members Score': 'Governance',\n",
       " 'Strictly Independent Board Members Score': 'Governance',\n",
       " 'Board Member Affiliations Score': 'Governance',\n",
       " 'Board Individual Re-election Score': 'Governance',\n",
       " 'Executive Compensation Policy Score': 'Governance',\n",
       " 'Executive Individual Compensation Score': 'Governance',\n",
       " 'Total Senior Executives Compensation To Revenues in million Score': 'Governance',\n",
       " 'Total Senior Executives Compensation Score': 'Governance',\n",
       " 'Highest Remuneration Package Score': 'Governance',\n",
       " 'CEO Compensation Link to TSR Score': 'Governance',\n",
       " 'Executive Compensation LT Objectives Score': 'Governance',\n",
       " 'Sustainability Compensation Incentives Score': 'Governance',\n",
       " 'Shareholders Approval Stock Compensation Plan Score': 'Governance',\n",
       " 'Board Member Compensation Score': 'Governance',\n",
       " 'Board Cultural Diversity, Percent Score': 'Governance',\n",
       " 'Executive Members Gender Diversity, Percent Score': 'Governance',\n",
       " 'Executives Cultural Diversity Score': 'Governance',\n",
       " 'Shareholder Rights Policy Score': 'Governance',\n",
       " 'Equal Shareholder Rights Score': 'Governance',\n",
       " 'Voting Cap Percentage Score': 'Governance',\n",
       " 'Director Election Majority Requirement Score': 'Governance',\n",
       " 'Shareholders Vote on Executive Pay Score': 'Governance',\n",
       " 'Public Availability Corporate Statutes Score': 'Governance',\n",
       " 'Veto Power or Golden share Score': 'Governance',\n",
       " 'State Owned Enterprise SOE Score': 'Governance',\n",
       " 'Anti Takeover Devices Above Two Score': 'Governance',\n",
       " 'Litigation Expenses To Revenues in million Score': 'Governance',\n",
       " 'Litigation Expenses Score': 'Governance',\n",
       " 'Non-audit to Audit Fees Ratio Score': 'Governance',\n",
       " 'CSR Sustainability Committee Score': 'Governance',\n",
       " 'Integrated Strategy in MD&A Score': 'Governance',\n",
       " 'Global Compact Signatory Score': 'Governance',\n",
       " 'Stakeholder Engagement Score': 'Governance',\n",
       " 'CSR Sustainability Reporting Score': 'Governance',\n",
       " 'GRI Report Guidelines Score': 'Governance',\n",
       " 'CSR Sustainability Report Global Activities Score': 'Governance',\n",
       " 'CSR Sustainability External Audit Score': 'Governance',\n",
       " 'Environmental Controversies Score': 'Controversies',\n",
       " 'Wages Working Condition Controversies Score': 'Controversies',\n",
       " 'Anti-competition Controversies Score': 'Controversies',\n",
       " 'Bribery, Corruption and Fraud Controversies Score': 'Controversies',\n",
       " 'Consumer Complaints Controversies Score': 'Controversies',\n",
       " 'Product Quality Controversies Score': 'Controversies',\n",
       " 'Responsible Marketing Controversies Score': 'Controversies',\n",
       " 'Executive Compensation Controversies Score': 'Controversies',\n",
       " 'Insider Dealings Controversies Score': 'Controversies',\n",
       " 'Accounting Controversies Score': 'Controversies'}"
      ]
     },
     "execution_count": 36,
     "metadata": {},
     "output_type": "execute_result"
    }
   ],
   "source": [
    "feature_mapping"
   ]
  },
  {
   "cell_type": "code",
   "execution_count": 37,
   "id": "c78e4f2f",
   "metadata": {},
   "outputs": [],
   "source": [
    "environment_keys = [key for key, value in feature_mapping.items() if value == \"Environment\"]\n"
   ]
  },
  {
   "cell_type": "code",
   "execution_count": 38,
   "id": "97414739",
   "metadata": {},
   "outputs": [
    {
     "data": {
      "text/plain": [
       "61"
      ]
     },
     "execution_count": 38,
     "metadata": {},
     "output_type": "execute_result"
    }
   ],
   "source": [
    "len(environment_keys)"
   ]
  },
  {
   "cell_type": "code",
   "execution_count": 39,
   "id": "79d4f127",
   "metadata": {},
   "outputs": [
    {
     "data": {
      "text/plain": [
       "14"
      ]
     },
     "execution_count": 39,
     "metadata": {},
     "output_type": "execute_result"
    }
   ],
   "source": [
    "controversies_keys = [key for key, value in feature_mapping.items() if value == \"Controversies\"]\n",
    "len(controversies_keys)"
   ]
  },
  {
   "cell_type": "code",
   "execution_count": 40,
   "id": "468aa0db",
   "metadata": {},
   "outputs": [
    {
     "data": {
      "text/plain": [
       "['ESG Combined Score',\n",
       " 'ESG Combined Score\\n.1',\n",
       " 'ESG Combined Score Grade',\n",
       " 'ESG Controversies Score',\n",
       " 'Environmental Controversies Score',\n",
       " 'Wages Working Condition Controversies Score',\n",
       " 'Anti-competition Controversies Score',\n",
       " 'Bribery, Corruption and Fraud Controversies Score',\n",
       " 'Consumer Complaints Controversies Score',\n",
       " 'Product Quality Controversies Score',\n",
       " 'Responsible Marketing Controversies Score',\n",
       " 'Executive Compensation Controversies Score',\n",
       " 'Insider Dealings Controversies Score',\n",
       " 'Accounting Controversies Score']"
      ]
     },
     "execution_count": 40,
     "metadata": {},
     "output_type": "execute_result"
    }
   ],
   "source": [
    "controversies_keys"
   ]
  },
  {
   "cell_type": "code",
   "execution_count": 41,
   "id": "51567492",
   "metadata": {},
   "outputs": [
    {
     "data": {
      "text/plain": [
       "57"
      ]
     },
     "execution_count": 41,
     "metadata": {},
     "output_type": "execute_result"
    }
   ],
   "source": [
    "governance_keys = [key for key, value in feature_mapping.items() if value == \"Governance\"]\n",
    "len(governance_keys)"
   ]
  },
  {
   "cell_type": "code",
   "execution_count": 42,
   "id": "b5d3e4c7",
   "metadata": {},
   "outputs": [
    {
     "data": {
      "text/plain": [
       "58"
      ]
     },
     "execution_count": 42,
     "metadata": {},
     "output_type": "execute_result"
    }
   ],
   "source": [
    "social_keys = [key for key, value in feature_mapping.items() if value == \"Social\"]\n",
    "len(social_keys)"
   ]
  },
  {
   "cell_type": "code",
   "execution_count": 43,
   "id": "d74fdac6",
   "metadata": {},
   "outputs": [
    {
     "data": {
      "text/plain": [
       "['Health & Safety Policy Score',\n",
       " 'Training and Development Policy Score',\n",
       " 'Policy Diversity and Opportunity Score',\n",
       " 'Targets Diversity and Opportunity Score',\n",
       " 'Employees Health & Safety Team Score',\n",
       " 'Supply Chain Health & Safety Improvements Score',\n",
       " 'Employees Health & Safety OHSAS 18001 Score',\n",
       " 'Employee Satisfaction Score',\n",
       " 'Net Employment Creation Score',\n",
       " 'Trade Union Representation Score',\n",
       " 'Turnover of Employees Score',\n",
       " 'Announced Layoffs To Total Employees Score',\n",
       " 'Gender Pay Gap Percentage Score',\n",
       " 'HRC Corporate Equality Index Score',\n",
       " 'Flexible Working Hours Score',\n",
       " 'Day Care Services Score',\n",
       " 'Employees With Disabilities Score',\n",
       " 'Employee Health & Safety Training Hours Score',\n",
       " 'Injuries To Million Hours Score',\n",
       " 'Occupational Diseases Score',\n",
       " 'Average Training Hours Score',\n",
       " 'Training Costs Per Employee Score',\n",
       " 'Internal Promotion Score',\n",
       " 'Supplier ESG training Score',\n",
       " 'Employee Resource Groups Score',\n",
       " 'Human Rights Policy Score',\n",
       " 'Policy Freedom of Association Score',\n",
       " 'Policy Child Labor Score',\n",
       " 'Policy Forced Labor Score',\n",
       " 'Policy Human Rights Score',\n",
       " 'Fundamental Human Rights ILO UN Score',\n",
       " 'Human Rights Contractor Score',\n",
       " 'Ethical Trading Initiative ETI Score',\n",
       " 'Human Rights Breaches Contractor Score',\n",
       " 'Policy Fair Competition Score',\n",
       " 'Policy Bribery and Corruption Score',\n",
       " 'Policy Business Ethics Score',\n",
       " 'Policy Community Involvement Score',\n",
       " 'Improvement Tools Business Ethics Score',\n",
       " 'Whistleblower Protection Score',\n",
       " 'OECD Guidelines for Multinational Enterprises Score',\n",
       " 'Extractive Industries Transparency Initiative Score',\n",
       " 'Community Lending and Investments Score',\n",
       " 'Corporate Responsibility Awards Score',\n",
       " 'Product Sales at Discount to Emerging Markets Score',\n",
       " 'Diseases of the Developing World Score',\n",
       " 'Critical Country 1 Score',\n",
       " 'Policy Customer Health & Safety Score',\n",
       " 'Policy Data Privacy Score',\n",
       " 'Policy Responsible Marketing Score',\n",
       " 'Policy Fair Trade Score',\n",
       " 'Product Responsibility Monitoring Score',\n",
       " 'Quality Mgt Systems Score',\n",
       " 'QMS Certified Percent Score',\n",
       " 'Customer Satisfaction Score',\n",
       " 'Product Access Low Price Score',\n",
       " 'Healthy Food or Products Score',\n",
       " 'Embryonic Stem Cell Research Score']"
      ]
     },
     "execution_count": 43,
     "metadata": {},
     "output_type": "execute_result"
    }
   ],
   "source": [
    "social_keys"
   ]
  },
  {
   "cell_type": "code",
   "execution_count": 44,
   "id": "1448c729",
   "metadata": {},
   "outputs": [
    {
     "name": "stdout",
     "output_type": "stream",
     "text": [
      "social_keys: ['Health & Safety Policy Score', 'Training and Development Policy Score', 'Policy Diversity and Opportunity Score', 'Targets Diversity and Opportunity Score', 'Employees Health & Safety Team Score', 'Supply Chain Health & Safety Improvements Score', 'Employees Health & Safety OHSAS 18001 Score', 'Employee Satisfaction Score', 'Net Employment Creation Score', 'Trade Union Representation Score', 'Turnover of Employees Score', 'Announced Layoffs To Total Employees Score', 'Gender Pay Gap Percentage Score', 'HRC Corporate Equality Index Score', 'Flexible Working Hours Score', 'Day Care Services Score', 'Employees With Disabilities Score', 'Employee Health & Safety Training Hours Score', 'Injuries To Million Hours Score', 'Occupational Diseases Score', 'Average Training Hours Score', 'Training Costs Per Employee Score', 'Internal Promotion Score', 'Supplier ESG training Score', 'Employee Resource Groups Score', 'Human Rights Policy Score', 'Policy Freedom of Association Score', 'Policy Child Labor Score', 'Policy Forced Labor Score', 'Policy Human Rights Score', 'Fundamental Human Rights ILO UN Score', 'Human Rights Contractor Score', 'Ethical Trading Initiative ETI Score', 'Human Rights Breaches Contractor Score', 'Policy Fair Competition Score', 'Policy Bribery and Corruption Score', 'Policy Business Ethics Score', 'Policy Community Involvement Score', 'Improvement Tools Business Ethics Score', 'Whistleblower Protection Score', 'OECD Guidelines for Multinational Enterprises Score', 'Extractive Industries Transparency Initiative Score', 'Community Lending and Investments Score', 'Corporate Responsibility Awards Score', 'Product Sales at Discount to Emerging Markets Score', 'Diseases of the Developing World Score', 'Critical Country 1 Score', 'Policy Customer Health & Safety Score', 'Policy Data Privacy Score', 'Policy Responsible Marketing Score', 'Policy Fair Trade Score', 'Product Responsibility Monitoring Score', 'Quality Mgt Systems Score', 'QMS Certified Percent Score', 'Customer Satisfaction Score', 'Product Access Low Price Score', 'Healthy Food or Products Score', 'Embryonic Stem Cell Research Score']\n",
      "controversies_keys: ['ESG Combined Score', 'ESG Combined Score\\n.1', 'ESG Combined Score Grade', 'ESG Controversies Score', 'Environmental Controversies Score', 'Wages Working Condition Controversies Score', 'Anti-competition Controversies Score', 'Bribery, Corruption and Fraud Controversies Score', 'Consumer Complaints Controversies Score', 'Product Quality Controversies Score', 'Responsible Marketing Controversies Score', 'Executive Compensation Controversies Score', 'Insider Dealings Controversies Score', 'Accounting Controversies Score']\n",
      "governance_keys: ['Board Functions Policy Score', 'Board Structure Policy Score', 'Compensation Improvement Tools Score', 'Internal Audit Department Reporting Score', 'External Consultants Score', 'Audit Committee Independence Score', 'Audit Committee Mgt Independence Score', 'Audit Committee Expertise Score', 'Compensation Committee Independence Score', 'Compensation Committee Mgt Independence Score', 'Nomination Committee Mgt Independence Score', 'Nomination Committee Independence Score', 'Nomination Committee Involvement Score', 'Board Meeting Attendance Average Score', 'Board Size More Ten Less Eight Score', 'Board Background and Skills Score', 'Board Gender Diversity, Percent Score', 'Board Specific Skills, Percent Score', 'Average Board Tenure Score', 'Non-Executive Board Members Score', 'Independent Board Members Score', 'Strictly Independent Board Members Score', 'Board Member Affiliations Score', 'Board Individual Re-election Score', 'Executive Compensation Policy Score', 'Executive Individual Compensation Score', 'Total Senior Executives Compensation To Revenues in million Score', 'Total Senior Executives Compensation Score', 'Highest Remuneration Package Score', 'CEO Compensation Link to TSR Score', 'Executive Compensation LT Objectives Score', 'Sustainability Compensation Incentives Score', 'Shareholders Approval Stock Compensation Plan Score', 'Board Member Compensation Score', 'Board Cultural Diversity, Percent Score', 'Executive Members Gender Diversity, Percent Score', 'Executives Cultural Diversity Score', 'Shareholder Rights Policy Score', 'Equal Shareholder Rights Score', 'Voting Cap Percentage Score', 'Director Election Majority Requirement Score', 'Shareholders Vote on Executive Pay Score', 'Public Availability Corporate Statutes Score', 'Veto Power or Golden share Score', 'State Owned Enterprise SOE Score', 'Anti Takeover Devices Above Two Score', 'Litigation Expenses To Revenues in million Score', 'Litigation Expenses Score', 'Non-audit to Audit Fees Ratio Score', 'CSR Sustainability Committee Score', 'Integrated Strategy in MD&A Score', 'Global Compact Signatory Score', 'Stakeholder Engagement Score', 'CSR Sustainability Reporting Score', 'GRI Report Guidelines Score', 'CSR Sustainability Report Global Activities Score', 'CSR Sustainability External Audit Score']\n",
      "environment_keys: ['Resource Reduction Policy Score', 'Policy Water Efficiency Score', 'Policy Energy Efficiency Score', 'Policy Sustainable Packaging Score', 'Policy Environmental Supply Chain Score', 'Resource Reduction Targets Score', 'Targets Water Efficiency Score', 'Targets Energy Efficiency Score', 'Environment Management Team Score', 'Environmental Materials Sourcing Score', 'Toxic Chemicals Reduction Score', 'Renewable Energy Use Ratio Score', 'Renewable Energy Supply Score', 'Total Renewable Energy To Energy Use in million Score', 'Cement Energy Use Score', 'Environmental Supply Chain Management Score', 'Environmental Supply Chain Monitoring Score', 'Env Supply Chain Partnership Termination Score', 'Land Environmental Impact Reduction Score', 'Targets Emissions Score', 'Biodiversity Impact Reduction Score', 'Estimated CO2 Equivalents Emission Total Score', 'CO2 Equivalent Emissions Indirect, Scope 3 To Revenues USD in million Score', 'Emissions Trading Score', 'Cement CO2 Equivalents Emission Score', 'Climate Change Commercial Risks Opportunities Score', 'Flaring Gases To Revenues USD in million Score', 'Ozone-Depleting Substances To Revenues USD in million Score', 'Ozone-Depleting Substances Score', 'NOx and SOx Emissions Reduction Score', 'NOx Emissions To Revenues USD in million Score', 'SOx Emissions To Revenues USD in million Score', 'VOC Emissions To Revenues USD in million Score', 'VOC or Particulate Matter Emissions Reduction Score', 'Waste Recycled To Total Waste Score', 'e-Waste Reduction Score', 'EMS Certified Percent Score', 'Environmental Restoration Initiatives Score', 'Staff Transportation Impact Reduction Score', 'Accidental Spills To Revenues USD in million Score', 'Environmental Expenditures Investments Score', 'Self-Reported Environmental Fines To Revenues in million Score', 'Self-Reported Environmental Fines Score', 'Environmental Partnerships Score', 'Total CO2 Equivalent Emissions To Revenues USD Score', 'Fleet CO2 Emissions Score', 'Environmental Products Score', 'Revenue from Environmental Products Score', 'Fleet Fuel Consumption Score', 'Environmental Assets Under Mgt Score', 'Equator Principles or Env Project Financing Score', 'Nuclear Production Score', 'Labeled Wood Percentage Score', 'Organic Products Initiatives Score', 'Product Impact Minimization Score', 'Agrochemical Products Score', 'Renewable/Clean Energy Products Score', 'Water Technologies Score', 'Sustainable Building Products Score', 'Real Estate Sustainability Certifications Score', 'Fossil Fuel Divestment Policy Score']\n"
     ]
    }
   ],
   "source": [
    "print('social_keys:', social_keys)\n",
    "print('controversies_keys:', controversies_keys)\n",
    "print('governance_keys:', governance_keys)\n",
    "print('environment_keys:', environment_keys)"
   ]
  }
 ],
 "metadata": {
  "kernelspec": {
   "display_name": "base",
   "language": "python",
   "name": "python3"
  },
  "language_info": {
   "codemirror_mode": {
    "name": "ipython",
    "version": 3
   },
   "file_extension": ".py",
   "mimetype": "text/x-python",
   "name": "python",
   "nbconvert_exporter": "python",
   "pygments_lexer": "ipython3",
   "version": "3.12.4"
  }
 },
 "nbformat": 4,
 "nbformat_minor": 5
}
